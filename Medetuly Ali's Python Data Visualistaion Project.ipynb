{
 "cells": [
  {
   "cell_type": "markdown",
   "id": "fbbe123b-d794-465b-baf2-53799e9ba395",
   "metadata": {},
   "source": [
    "#Part 1"
   ]
  },
  {
   "cell_type": "markdown",
   "id": "883db003-c64c-443c-95a8-6e191f334149",
   "metadata": {},
   "source": [
    "##Task 1.1"
   ]
  },
  {
   "cell_type": "code",
   "execution_count": null,
   "id": "aebbd437-153a-41e0-8789-8c6afaebeef9",
   "metadata": {},
   "outputs": [],
   "source": [
    "import pandas as pd\n",
    "import matplotlib.pyplot as plt\n",
    "\n",
    "plt.figure(figsize=(10, 6))\n",
    "plt.plot(sales_data['Year'], sales_data['Sales'], marker='o', linestyle='-', color='b')\n",
    "plt.xlabel('Year')\n",
    "plt.ylabel('Sales')\n",
    "plt.title('Automobile Sales Over Time')\n",
    "plt.grid(True)\n",
    "plt.show()\n"
   ]
  },
  {
   "cell_type": "markdown",
   "id": "069d5a43-a762-4c14-923d-37477557ba35",
   "metadata": {},
   "source": [
    "##Task 1.2"
   ]
  },
  {
   "cell_type": "code",
   "execution_count": null,
   "id": "3f74bcaa-1f81-4460-84c0-9c6406943689",
   "metadata": {},
   "outputs": [],
   "source": [
    "import matplotlib.pyplot as plt\n",
    "\n",
    "plt.figure(figsize=(10, 6))\n",
    "\n",
    "for vehicle_type in sales_data['Vehicle_Type'].unique():\n",
    "    subset = sales_data[sales_data['Vehicle_Type'] == vehicle_type]\n",
    "    plt.plot(subset['Year'], subset['Automobile_Sales'], label=vehicle_type)\n",
    "\n",
    "plt.xlabel('Year')\n",
    "plt.ylabel('Sales')\n",
    "plt.title('Sales Trends by Vehicle Type')\n",
    "plt.legend()\n",
    "plt.grid(True)\n",
    "plt.show()\n"
   ]
  },
  {
   "cell_type": "markdown",
   "id": "67361ff6-ea62-4ade-aefe-99c8a9c706e3",
   "metadata": {},
   "source": [
    "##Task 1.3"
   ]
  },
  {
   "cell_type": "code",
   "execution_count": null,
   "id": "113600f7-6b72-45b0-9d79-492a8e500766",
   "metadata": {},
   "outputs": [],
   "source": [
    "import seaborn as sns\n",
    "\n",
    "sns.set(style='whitegrid')\n",
    "plt.figure(figsize=(10, 6))\n",
    "\n",
    "recession_data = sales_data[sales_data['Recession'] == 1]\n",
    "non_recession_data = sales_data[sales_data['Recession'] == 0]\n",
    "\n",
    "sns.barplot(x='Vehicle_Type', y='Automobile_Sales', hue='Recession', data=sales_data)\n",
    "plt.xlabel('Vehicle Type')\n",
    "plt.ylabel('Sales')\n",
    "plt.title('Sales Trend: Recession vs. Non-Recession')\n",
    "plt.show()\n"
   ]
  },
  {
   "cell_type": "markdown",
   "id": "e5cf6495-d973-4645-ab14-ffe59deec12b",
   "metadata": {},
   "source": [
    "##Task 1.4"
   ]
  },
  {
   "cell_type": "code",
   "execution_count": null,
   "id": "31799093-d515-421b-9d01-1de138e0c464",
   "metadata": {},
   "outputs": [],
   "source": [
    "plt.figure(figsize=(12, 6))\n",
    "\n",
    "plt.subplot(1, 2, 1)\n",
    "plt.plot(recession_data['Year'], recession_data['GDP'], marker='o', linestyle='-', color='r')\n",
    "plt.xlabel('Year')\n",
    "plt.ylabel('GDP')\n",
    "plt.title('GDP During Recession')\n",
    "\n",
    "plt.subplot(1, 2, 2)\n",
    "plt.plot(non_recession_data['Year'], non_recession_data['GDP'], marker='o', linestyle='-', color='b')\n",
    "plt.xlabel('Year')\n",
    "plt.ylabel('GDP')\n",
    "plt.title('GDP During Non-Recession')\n",
    "\n",
    "plt.tight_layout()\n",
    "plt.show()\n"
   ]
  },
  {
   "cell_type": "markdown",
   "id": "879abddb-0a4b-41c8-a9a2-fdca4ba996d8",
   "metadata": {},
   "source": [
    "##Task 1.5"
   ]
  },
  {
   "cell_type": "code",
   "execution_count": null,
   "id": "9c611a27-8728-4809-ad07-c86f85229eb4",
   "metadata": {},
   "outputs": [],
   "source": [
    "plt.figure(figsize=(12, 6))\n",
    "\n",
    "plt.subplot(1, 2, 1)\n",
    "plt.plot(recession_data['Year'], recession_data['GDP'], marker='o', linestyle='-', color='r')\n",
    "plt.xlabel('Year')\n",
    "plt.ylabel('GDP')\n",
    "plt.title('GDP During Recession')\n",
    "\n",
    "plt.subplot(1, 2, 2)\n",
    "plt.plot(non_recession_data['Year'], non_recession_data['GDP'], marker='o', linestyle='-', color='b')\n",
    "plt.xlabel('Year')\n",
    "plt.ylabel('GDP')\n",
    "plt.title('GDP During Non-Recession')\n",
    "\n",
    "plt.tight_layout()\n",
    "plt.show()\n"
   ]
  },
  {
   "cell_type": "markdown",
   "id": "5cb8046a-99e9-4007-b1e4-e3bbfc2e1556",
   "metadata": {},
   "source": [
    "##Task 1.6"
   ]
  },
  {
   "cell_type": "code",
   "execution_count": null,
   "id": "86c97e1b-6ec1-4d99-96c7-99bd3e1d2e54",
   "metadata": {},
   "outputs": [],
   "source": [
    "plt.figure(figsize=(12, 6))\n",
    "\n",
    "plt.subplot(1, 2, 1)\n",
    "plt.plot(recession_data['Year'], recession_data['GDP'], marker='o', linestyle='-', color='r')\n",
    "plt.xlabel('Year')\n",
    "plt.ylabel('GDP')\n",
    "plt.title('GDP During Recession')\n",
    "\n",
    "plt.subplot(1, 2, 2)\n",
    "plt.plot(non_recession_data['Year'], non_recession_data['GDP'], marker='o', linestyle='-', color='b')\n",
    "plt.xlabel('Year')\n",
    "plt.ylabel('GDP')\n",
    "plt.title('GDP During Non-Recession')\n",
    "\n",
    "plt.tight_layout()\n",
    "plt.show()\n"
   ]
  },
  {
   "cell_type": "markdown",
   "id": "e4c76e3a-3b87-4989-9557-5b6c071def1e",
   "metadata": {},
   "source": [
    "##Task 1.7"
   ]
  },
  {
   "cell_type": "code",
   "execution_count": null,
   "id": "e14e9405-30b4-425a-8671-a7f8f2e500bc",
   "metadata": {},
   "outputs": [],
   "source": [
    "plt.figure(figsize=(12, 6))\n",
    "\n",
    "plt.subplot(1, 2, 1)\n",
    "plt.plot(recession_data['Year'], recession_data['GDP'], marker='o', linestyle='-', color='r')\n",
    "plt.xlabel('Year')\n",
    "plt.ylabel('GDP')\n",
    "plt.title('GDP During Recession')\n",
    "\n",
    "plt.subplot(1, 2, 2)\n",
    "plt.plot(non_recession_data['Year'], non_recession_data['GDP'], marker='o', linestyle='-', color='b')\n",
    "plt.xlabel('Year')\n",
    "plt.ylabel('GDP')\n",
    "plt.title('GDP During Non-Recession')\n",
    "\n",
    "plt.tight_layout()\n",
    "plt.show()\n"
   ]
  },
  {
   "cell_type": "markdown",
   "id": "4ee001cd-5661-449c-aa90-19747cb98f97",
   "metadata": {},
   "source": [
    "##Task 1.8"
   ]
  },
  {
   "cell_type": "code",
   "execution_count": null,
   "id": "75db3552-a05b-4c13-9ba7-d32794909c95",
   "metadata": {},
   "outputs": [],
   "source": [
    "plt.figure(figsize=(12, 6))\n",
    "\n",
    "plt.subplot(1, 2, 1)\n",
    "plt.plot(recession_data['Year'], recession_data['GDP'], marker='o', linestyle='-', color='r')\n",
    "plt.xlabel('Year')\n",
    "plt.ylabel('GDP')\n",
    "plt.title('GDP During Recession')\n",
    "\n",
    "plt.subplot(1, 2, 2)\n",
    "plt.plot(non_recession_data['Year'], non_recession_data['GDP'], marker='o', linestyle='-', color='b')\n",
    "plt.xlabel('Year')\n",
    "plt.ylabel('GDP')\n",
    "plt.title('GDP During Non-Recession')\n",
    "\n",
    "plt.tight_layout()\n",
    "plt.show()\n"
   ]
  },
  {
   "cell_type": "markdown",
   "id": "3eba61cd-cae3-4d78-86e1-9562a9572d14",
   "metadata": {},
   "source": [
    "##Task 1.9"
   ]
  },
  {
   "cell_type": "code",
   "execution_count": null,
   "id": "d7e50b05-24ce-4502-bd09-ff19059ee75c",
   "metadata": {},
   "outputs": [],
   "source": [
    "plt.figure(figsize=(10, 6))\n",
    "\n",
    "for vehicle_type in recession_data['Vehicle_Type'].unique():\n",
    "    subset = recession_data[recession_data['Vehicle_Type'] == vehicle_type]\n",
    "    plt.plot(subset['Unemployment_Rate'], subset['Automobile_Sales'], label=vehicle_type)\n",
    "\n",
    "plt.xlabel('Unemployment Rate')\n",
    "plt.ylabel('Sales Volume')\n",
    "plt.title('Unemployment Rate vs. Sales Volume (Recession Period)')\n",
    "plt.legend()\n",
    "plt.grid(True)\n",
    "plt.show()\n"
   ]
  },
  {
   "cell_type": "markdown",
   "id": "acc64f67-1831-495a-9dea-666e2fdfa566",
   "metadata": {},
   "source": [
    "#Part 2"
   ]
  },
  {
   "cell_type": "markdown",
   "id": "16b0c273-5d56-407e-ab77-79230ad244a6",
   "metadata": {},
   "source": [
    "##Task 2.1"
   ]
  },
  {
   "cell_type": "code",
   "execution_count": null,
   "id": "d5fc676a-037a-4a00-9679-7418ea997c39",
   "metadata": {},
   "outputs": [],
   "source": [
    "import dash\n",
    "import dash_core_components as dcc\n",
    "import dash_html_components as html\n",
    "from dash.dependencies import Input, Output\n",
    "\n",
    "app = dash.Dash(__name__)\n",
    "app.title = \"Automobile Sales Dashboard\" \n",
    "\n",
    "app.layout = html.Div([\n",
    "    html.H1(\"Automobile Sales Dashboard\"),\n",
    "    \n",
    "    html.Div(id='output-container')\n",
    "])\n",
    "\n",
    "@app.callback(\n",
    "    Output('output-container', 'children'),\n",
    "    [Input('your-input-component', 'value')]  \n",
    ")\n",
    "def update_output(input_value):\n",
    "    return f\"You selected: {input_value}\"\n",
    "\n",
    "if __name__ == '__main__':\n",
    "    app.run_server(debug=True)"
   ]
  },
  {
   "cell_type": "markdown",
   "id": "47c441ce-0be3-4240-8759-e0534fedc27c",
   "metadata": {},
   "source": [
    "##Task 2.2"
   ]
  },
  {
   "cell_type": "code",
   "execution_count": null,
   "id": "6386d6d1-e786-495a-9371-a948210b7938",
   "metadata": {},
   "outputs": [],
   "source": [
    "dcc.Dropdown(\n",
    "    id='select-year',\n",
    "    options=[\n",
    "        {'label': '2010', 'value': 2010},\n",
    "        {'label': '2011', 'value': 2011},\n",
    "    ],\n",
    "    value=2010  # Set an initial value\n",
    ")\n"
   ]
  },
  {
   "cell_type": "markdown",
   "id": "95c09d76-388a-4cd1-857c-410ceec79e47",
   "metadata": {},
   "source": [
    "##Task 2.3"
   ]
  },
  {
   "cell_type": "code",
   "execution_count": null,
   "id": "78956caf-971a-4726-8123-4fb77c121025",
   "metadata": {},
   "outputs": [],
   "source": [
    "html.Div(id='chart-output', className='my-chart')\n"
   ]
  },
  {
   "cell_type": "markdown",
   "id": "a4a339d3-4081-4e69-9327-78fe9fbc00c7",
   "metadata": {},
   "source": [
    "##Task 2.4"
   ]
  },
  {
   "cell_type": "code",
   "execution_count": null,
   "id": "f3dbe6bb-6d3f-4347-8073-76604bf7b12b",
   "metadata": {},
   "outputs": [],
   "source": [
    "@app.callback(\n",
    "    Output('output-container', 'children'),  \n",
    "    [Input('select-year', 'value')]  \n",
    ")\n",
    "def update_output_container(selected_year):\n",
    "\n",
    "    return f\"Selected year: {selected_year}\"\n",
    "    "
   ]
  },
  {
   "cell_type": "markdown",
   "id": "2910f3e7-f99a-46e5-ae73-f7a45b93efac",
   "metadata": {},
   "source": [
    "##Task 2.5"
   ]
  },
  {
   "cell_type": "code",
   "execution_count": null,
   "id": "e58dbf17-a6ee-4d70-80f0-43d0669bbdd4",
   "metadata": {},
   "outputs": [],
   "source": [
    "import plotly.express as px\n",
    "\n",
    "yearly_rec = recession_data.groupby('Year')['Automobile_Sales'].mean().reset_index()\n",
    "\n",
    "fig = px.line(yearly_rec, x='Year', y='Automobile_Sales', title='Automobile Sales Over Recession Periods')\n"
   ]
  },
  {
   "cell_type": "markdown",
   "id": "8fe4ae3a-3b2d-413f-8393-796107bd9fae",
   "metadata": {},
   "source": [
    "##Task 2.6"
   ]
  },
  {
   "cell_type": "code",
   "execution_count": null,
   "id": "5648dd59-3957-4220-b51f-96d8da81defa",
   "metadata": {},
   "outputs": [],
   "source": [
    "import matplotlib.pyplot as plt\n",
    "\n",
    "yearly_average_sales = sales_data.groupby('Year')['Automobile_Sales'].mean()\n",
    "\n",
    "plt.figure(figsize=(10, 6))\n",
    "plt.plot(yearly_average_sales.index, yearly_average_sales.values, marker='o', linestyle='-', color='g')\n",
    "plt.xlabel('Year')\n",
    "plt.ylabel('Average Sales')\n",
    "plt.title('Yearly Average Automobile Sales')\n",
    "plt.grid(True)\n",
    "plt.show()\n"
   ]
  }
 ],
 "metadata": {
  "kernelspec": {
   "display_name": "Python 3 (ipykernel)",
   "language": "python",
   "name": "python3"
  },
  "language_info": {
   "codemirror_mode": {
    "name": "ipython",
    "version": 3
   },
   "file_extension": ".py",
   "mimetype": "text/x-python",
   "name": "python",
   "nbconvert_exporter": "python",
   "pygments_lexer": "ipython3",
   "version": "3.12.4"
  }
 },
 "nbformat": 4,
 "nbformat_minor": 5
}
