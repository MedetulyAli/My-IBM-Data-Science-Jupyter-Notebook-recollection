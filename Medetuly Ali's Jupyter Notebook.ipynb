{
 "cells": [
  {
   "cell_type": "markdown",
   "id": "868a80cb-4b7d-446c-95e8-0931560419bb",
   "metadata": {},
   "source": [
    "# My Data science project as a Jupyter Notebook. Welcome!"
   ]
  },
  {
   "cell_type": "markdown",
   "id": "10143816-6352-48ee-8bb2-7c8be61b29b6",
   "metadata": {},
   "source": [
    "This project is made by Medetuly Ali and is going to be assigned as a final coursera project. I will show you my Jupyter skills, I promise to impress you."
   ]
  },
  {
   "cell_type": "markdown",
   "id": "e5036262-ee9e-4ae2-a302-d6ac5422ce80",
   "metadata": {},
   "source": [
    "There are a plethora of languages used in Data science, such as: \n",
    "1) Python\n",
    "2) R\n",
    "3) Julia\n",
    "4) Java\n",
    "5) Scala\n",
    "6) JavaScript\n",
    "And a lot, lot more."
   ]
  },
  {
   "cell_type": "markdown",
   "id": "a6d0bfdd-21c5-490c-8adb-d7a4a8291ed1",
   "metadata": {},
   "source": [
    "Also, there are Data science libraries, which contain collection of functions and methods, that are letting you performance a lot of code actions. \n",
    "For example: \n",
    "1) Pandas (Data sctructure tools)\n",
    "2) NumPy (Arrays and matrics)\n",
    "3) Matplotlib (plots and graphs)\n",
    "4) Seaborn (heat maps and time series)\n",
    "5) Scikit-Learn (regression and clusters)\n",
    "And etc."
   ]
  },
  {
   "cell_type": "markdown",
   "id": "d807fac3-7789-4318-929f-fa2665eaead9",
   "metadata": {},
   "source": [
    "| Name of the tool |                                         Features of the tool                                         |\n",
    "|------------------|------------------------------------------------------------------------------------------------------|\n",
    "|      MySQL       |     MySQL is a powerful open-source RDBMS that allows you to manage structured data efficiently.     |\n",
    "|  Apache Airflow  |        Apache Airflow allows you to programmatically author, schedule, and monitor workflows.        |\n",
    "|    Pixie Dust    |PixieDust allows easy customization of table output in formats like markdown, HTML, LaTeX, or console.|\n",
    "|     SparkSQL     |                      Spark SQL lets you query structured data using SQL or DataFrame API.            |\n",
    "|      Seldon      |                     Converts ML models into production-ready REST/gRPC microservices.                |\n",
    "|      ModelDB     |                 Helps manage machine learning models, track experiments, and version models.         |\n",
    "|       Ceph       |                    Provides scalable, fault-tolerant storage for large-scale data.                   |\n",
    "|    Kubernetes    |                          Manages containerized applications across clusters.                         |"
   ]
  },
  {
   "cell_type": "markdown",
   "id": "ac672f2f-4925-491c-8cb1-8b3390c638e8",
   "metadata": {},
   "source": [
    "In the next code tab I will show my knowledge of mathematical operations.\n",
    "Some of them are: + (plus), - (minus), / (division), * (multipliсation)."
   ]
  },
  {
   "cell_type": "code",
   "execution_count": null,
   "id": "06943dd4-76cf-4861-b05d-6fb40f22ef07",
   "metadata": {},
   "outputs": [],
   "source": [
    "a = 5\n",
    "b = 3\n",
    "result = a * b + 2\n",
    "print(result)"
   ]
  },
  {
   "cell_type": "code",
   "execution_count": null,
   "id": "2b7042d1-3808-435d-848d-94b6224395da",
   "metadata": {},
   "outputs": [],
   "source": [
    "minutes = 120\n",
    "hours = minutes / 60\n",
    "print(hours)"
   ]
  },
  {
   "cell_type": "markdown",
   "id": "05b1b563-068f-4a22-81cc-501a993300b1",
   "metadata": {},
   "source": [
    "Objectives of the project are:\n",
    "o\tTry Jupyter Notebook\n",
    "o\tEnhance my knowledge in Data Science\n",
    "o\tShow my knowledge to coursera\n",
    "o\tDevelop my programming skills"
   ]
  },
  {
   "cell_type": "markdown",
   "id": "557e38b7-d142-4a30-ab89-0d47037f8dd1",
   "metadata": {},
   "source": [
    "Author: Medetuly Ali"
   ]
  }
 ],
 "metadata": {
  "kernelspec": {
   "display_name": "Python 3 (ipykernel)",
   "language": "python",
   "name": "python3"
  },
  "language_info": {
   "codemirror_mode": {
    "name": "ipython",
    "version": 3
   },
   "file_extension": ".py",
   "mimetype": "text/x-python",
   "name": "python",
   "nbconvert_exporter": "python",
   "pygments_lexer": "ipython3",
   "version": "3.12.4"
  }
 },
 "nbformat": 4,
 "nbformat_minor": 5
}
