{
 "cells": [
  {
   "cell_type": "code",
   "execution_count": 39,
   "id": "a175944f-3c69-40e8-9674-f2eaeb7b9449",
   "metadata": {},
   "outputs": [
    {
     "name": "stdout",
     "output_type": "stream",
     "text": [
      "Requirement already satisfied: beautifulsoup4 in c:\\users\\fareg\\anaconda3\\lib\\site-packages (4.12.3)\n",
      "Requirement already satisfied: soupsieve>1.2 in c:\\users\\fareg\\anaconda3\\lib\\site-packages (from beautifulsoup4) (2.5)\n",
      "Requirement already satisfied: requests in c:\\users\\fareg\\anaconda3\\lib\\site-packages (2.32.2)\n",
      "Requirement already satisfied: charset-normalizer<4,>=2 in c:\\users\\fareg\\anaconda3\\lib\\site-packages (from requests) (2.0.4)\n",
      "Requirement already satisfied: idna<4,>=2.5 in c:\\users\\fareg\\anaconda3\\lib\\site-packages (from requests) (3.7)\n",
      "Requirement already satisfied: urllib3<3,>=1.21.1 in c:\\users\\fareg\\anaconda3\\lib\\site-packages (from requests) (2.2.2)\n",
      "Requirement already satisfied: certifi>=2017.4.17 in c:\\users\\fareg\\anaconda3\\lib\\site-packages (from requests) (2024.7.4)\n"
     ]
    }
   ],
   "source": [
    "!pip3 install beautifulsoup4\n",
    "!pip3 install requests"
   ]
  },
  {
   "cell_type": "code",
   "execution_count": 40,
   "id": "3a9a9cc2-a192-4d90-993a-141bc50d3bce",
   "metadata": {},
   "outputs": [],
   "source": [
    "import sys\n",
    "\n",
    "import requests\n",
    "from bs4 import BeautifulSoup\n",
    "import re\n",
    "import unicodedata\n",
    "import pandas as pd"
   ]
  },
  {
   "cell_type": "code",
   "execution_count": 41,
   "id": "2c0894a4-4169-4396-bf66-7e0995724276",
   "metadata": {},
   "outputs": [],
   "source": [
    "def date_time(table_cells):\n",
    "    \"\"\"\n",
    "    This function returns the data and time from the HTML  table cell\n",
    "    Input: the  element of a table data cell extracts extra row\n",
    "    \"\"\"\n",
    "    return [data_time.strip() for data_time in list(table_cells.strings)][0:2]\n",
    "\n",
    "def booster_version(table_cells):\n",
    "    \"\"\"\n",
    "    This function returns the booster version from the HTML  table cell \n",
    "    Input: the  element of a table data cell extracts extra row\n",
    "    \"\"\"\n",
    "    out=''.join([booster_version for i,booster_version in enumerate( table_cells.strings) if i%2==0][0:-1])\n",
    "    return out\n",
    "\n",
    "def landing_status(table_cells):\n",
    "    \"\"\"\n",
    "    This function returns the landing status from the HTML table cell \n",
    "    Input: the  element of a table data cell extracts extra row\n",
    "    \"\"\"\n",
    "    out=[i for i in table_cells.strings][0]\n",
    "    return out\n",
    "\n",
    "\n",
    "def get_mass(table_cells):\n",
    "    mass=unicodedata.normalize(\"NFKD\", table_cells.text).strip()\n",
    "    if mass:\n",
    "        mass.find(\"kg\")\n",
    "        new_mass=mass[0:mass.find(\"kg\")+2]\n",
    "    else:\n",
    "        new_mass=0\n",
    "    return new_mass\n",
    "\n",
    "\n",
    "def extract_column_from_header(row):\n",
    "    \"\"\"\n",
    "    This function returns the landing status from the HTML table cell \n",
    "    Input: the  element of a table data cell extracts extra row\n",
    "    \"\"\"\n",
    "    if (row.br):\n",
    "        row.br.extract()\n",
    "    if row.a:\n",
    "        row.a.extract()\n",
    "    if row.sup:\n",
    "        row.sup.extract()\n",
    "        \n",
    "    colunm_name = ' '.join(row.contents)\n",
    "    \n",
    "    # Filter the digit and empty names\n",
    "    if not(colunm_name.strip().isdigit()):\n",
    "        colunm_name = colunm_name.strip()\n",
    "        return colunm_name    \n"
   ]
  },
  {
   "cell_type": "code",
   "execution_count": 42,
   "id": "776f30e1-ddd1-4cb1-9550-cf80a61985b1",
   "metadata": {},
   "outputs": [],
   "source": [
    "static_url = \"https://en.wikipedia.org/w/index.php?title=List_of_Falcon_9_and_Falcon_Heavy_launches&oldid=1027686922\""
   ]
  },
  {
   "cell_type": "markdown",
   "id": "4d5f9a19-02d0-437b-8aaa-3770c7f94ffc",
   "metadata": {},
   "source": [
    "#Task 1"
   ]
  },
  {
   "cell_type": "code",
   "execution_count": 44,
   "id": "ba2e76cd-d16e-4429-a99f-2f87bd400aec",
   "metadata": {},
   "outputs": [
    {
     "name": "stdout",
     "output_type": "stream",
     "text": [
      "Successfully fetched the Falcon9 Launch HTML page!\n"
     ]
    }
   ],
   "source": [
    "import requests\n",
    "\n",
    "# The URL for the Falcon9 Launch page\n",
    "static_url = \"https://en.wikipedia.org/w/index.php?title=List_of_Falcon_9_and_Falcon_Heavy_launches&oldid=1027686922\"\n",
    "\n",
    "# Perform an HTTP GET request\n",
    "response = requests.get(static_url)\n",
    "\n",
    "# Now you have the response object containing the HTML page!\n",
    "# You can explore its content, extract information, and analyze it.\n",
    "\n",
    "# For example, to check the status code (200 means success):\n",
    "if response.status_code == 200:\n",
    "    print(\"Successfully fetched the Falcon9 Launch HTML page!\")\n",
    "else:\n",
    "    print(f\"Oops! Something went wrong. Status code: {response.status_code}\")\n",
    "\n",
    "# Feel free to adapt this code snippet to your project needs.\n"
   ]
  },
  {
   "cell_type": "code",
   "execution_count": 45,
   "id": "5b83278f-d538-48d2-8be2-74ef4711b82b",
   "metadata": {},
   "outputs": [
    {
     "name": "stdout",
     "output_type": "stream",
     "text": [
      "Page Title: List of Falcon 9 and Falcon Heavy launches - Wikipedia\n"
     ]
    }
   ],
   "source": [
    "from bs4 import BeautifulSoup\n",
    "\n",
    "# Assuming you already have the 'response' object from the previous step\n",
    "# Let's create a BeautifulSoup object\n",
    "soup = BeautifulSoup(response.content, \"html.parser\")\n",
    "\n",
    "# Now you can explore the soup! It's like sifting through stardust for hidden gems.\n",
    "# You'll find tags, attributes, and all sorts of cosmic information.\n",
    "\n",
    "# For example, let's find the title of the page:\n",
    "page_title = soup.title.string\n",
    "print(f\"Page Title: {page_title}\")\n"
   ]
  },
  {
   "cell_type": "code",
   "execution_count": 46,
   "id": "ec5eb4c0-d740-450d-9a1b-797633e9b248",
   "metadata": {},
   "outputs": [
    {
     "name": "stdout",
     "output_type": "stream",
     "text": [
      "Page Title: List of Falcon 9 and Falcon Heavy launches - Wikipedia\n"
     ]
    }
   ],
   "source": [
    "from bs4 import BeautifulSoup\n",
    "\n",
    "# Assuming you already have the 'response' object from the previous step\n",
    "# Let's create a BeautifulSoup object\n",
    "soup = BeautifulSoup(response.content, \"html.parser\")\n",
    "\n",
    "# Now you can explore the soup! It's like sifting through stardust for hidden gems.\n",
    "# You'll find tags, attributes, and all sorts of cosmic information.\n",
    "\n",
    "# For example, let's find the title of the page:\n",
    "page_title = soup.title.string\n",
    "print(f\"Page Title: {page_title}\")\n"
   ]
  },
  {
   "cell_type": "markdown",
   "id": "a4cb030c-915b-43bb-b836-fa940fdd6337",
   "metadata": {},
   "source": [
    "#Task 2"
   ]
  },
  {
   "cell_type": "code",
   "execution_count": 48,
   "id": "a57667ca-fe42-425d-8c6b-befea5f0767b",
   "metadata": {},
   "outputs": [
    {
     "name": "stdout",
     "output_type": "stream",
     "text": [
      "Found 25 tables on the Falcon 9 Launch page.\n"
     ]
    }
   ],
   "source": [
    "# Let's find all the tables on the page\n",
    "all_tables = soup.find_all(\"table\")\n",
    "\n",
    "num_tables = len(all_tables)\n",
    "print(f\"Found {num_tables} tables on the Falcon 9 Launch page.\")\n"
   ]
  },
  {
   "cell_type": "code",
   "execution_count": 49,
   "id": "ab282a62-79f0-499b-8d09-cbfc22ddaf10",
   "metadata": {},
   "outputs": [
    {
     "name": "stdout",
     "output_type": "stream",
     "text": [
      "Extracted Column Names:\n",
      "Flight No.\n",
      "Date and time ( )\n",
      "Launch site\n",
      "Payload\n",
      "Payload mass\n",
      "Orbit\n",
      "Customer\n",
      "Launch outcome\n"
     ]
    }
   ],
   "source": [
    "# Assuming you already have the 'soup' object from the previous steps\n",
    "# Let's locate the First Launch Table (you might need to adjust this selector)\n",
    "first_launch_table = soup.find(\"table\", class_=\"wikitable\")\n",
    "\n",
    "# Initialize an empty list to collect column names\n",
    "column_names = []\n",
    "\n",
    "# Iterate through the <th> elements within the table\n",
    "for th_element in first_launch_table.find_all(\"th\"):\n",
    "    # Extract the column name using the provided function\n",
    "    name = extract_column_from_header(th_element)  # You'll need to define this function\n",
    "\n",
    "    # If the name is non-empty, add it to the list\n",
    "    if name is not None and len(name) > 0:\n",
    "        column_names.append(name)\n",
    "\n",
    "# Voilà! Our cosmic column names are ready for analysis.\n",
    "print(\"Extracted Column Names:\")\n",
    "for col_name in column_names:\n",
    "    print(col_name)\n"
   ]
  },
  {
   "cell_type": "code",
   "execution_count": 50,
   "id": "cc9c3471-af02-43e3-89a8-e29dfc2ec478",
   "metadata": {},
   "outputs": [
    {
     "name": "stdout",
     "output_type": "stream",
     "text": [
      "['Flight No.', 'Date and time ( )', 'Launch site', 'Payload', 'Payload mass', 'Orbit', 'Customer', 'Launch outcome']\n"
     ]
    }
   ],
   "source": [
    "print(column_names)"
   ]
  },
  {
   "cell_type": "markdown",
   "id": "1c5cd25d-e512-4617-ba18-2242283434ee",
   "metadata": {},
   "source": [
    "#Task 3"
   ]
  },
  {
   "cell_type": "code",
   "execution_count": 52,
   "id": "a46c7d70-398b-4318-a4c9-f80afb1e991b",
   "metadata": {},
   "outputs": [],
   "source": [
    "launch_dict= dict.fromkeys(column_names)\n",
    "\n",
    "# Remove an irrelvant column\n",
    "del launch_dict['Date and time ( )']\n",
    "\n",
    "# Let's initial the launch_dict with each value to be an empty list\n",
    "launch_dict['Flight No.'] = []\n",
    "launch_dict['Launch site'] = []\n",
    "launch_dict['Payload'] = []\n",
    "launch_dict['Payload mass'] = []\n",
    "launch_dict['Orbit'] = []\n",
    "launch_dict['Customer'] = []\n",
    "launch_dict['Launch outcome'] = []\n",
    "# Added some new columns\n",
    "launch_dict['Version Booster']=[]\n",
    "launch_dict['Booster landing']=[]\n",
    "launch_dict['Date']=[]\n",
    "launch_dict['Time']=[]"
   ]
  },
  {
   "cell_type": "code",
   "execution_count": 53,
   "id": "1a733586-29f4-4543-9bd6-0ca4aa17b614",
   "metadata": {},
   "outputs": [],
   "source": [
    "# Initialize the launch_dict (if you haven't already)\n",
    "launch_dict = {}\n",
    "\n",
    "# Assuming you've already defined the necessary helper functions (date_time, booster_version, get_mass, landing_status)\n",
    "\n",
    "# Extract each table\n",
    "for table_number, table in enumerate(soup.find_all('table', \"wikitable plainrowheaders collapsible\")):\n",
    "    # Get table rows\n",
    "    for row in table.find_all(\"tr\"):\n",
    "        # Check if the first table heading corresponds to a valid flight number\n",
    "        if row.th:\n",
    "            if row.th.string:\n",
    "                flight_number = row.th.string.strip()\n",
    "                valid_flight = flight_number.isdigit()\n",
    "        else:\n",
    "            valid_flight = False\n",
    "\n",
    "        # Get table elements (cells)\n",
    "        cells = row.find_all('td')\n",
    "\n",
    "        # If it's a valid flight, save relevant data in the launch_dict\n",
    "        if valid_flight:\n",
    "            launch_record = {\n",
    "                \"Flight No.\": flight_number,\n",
    "                \"Date\": date_time(cells[0])[0].strip(','),\n",
    "                \"Time\": date_time(cells[0])[1],\n",
    "                \"Version Booster\": booster_version(cells[1]) or cells[1].a.string,\n",
    "                \"Launch Site\": cells[2].a.string,\n",
    "                \"Payload\": cells[3].a.string,\n",
    "                \"Payload mass\": get_mass(cells[4]),\n",
    "                \"Orbit\": cells[5].a.string,\n",
    "                \"Launch outcome\": list(cells[7].strings)[0],\n",
    "                \"Booster landing\": landing_status(cells[8])\n",
    "            }\n",
    "            \n",
    "            # Handle missing \"Customer\" field gracefully\n",
    "            customer = cells[6]\n",
    "            if customer:\n",
    "                launch_record[\"Customer\"] = customer\n",
    "\n",
    "            # Add the launch record to the launch_dict\n",
    "            launch_dict[flight_number] = launch_record\n"
   ]
  },
  {
   "cell_type": "code",
   "execution_count": 54,
   "id": "874b7434-bb7e-44f3-a22c-e1b550459523",
   "metadata": {},
   "outputs": [],
   "source": [
    "df= pd.DataFrame({ key:pd.Series(value) for key, value in launch_dict.items() })"
   ]
  },
  {
   "cell_type": "code",
   "execution_count": null,
   "id": "24bed87c-9483-4d36-8936-e1e514bbfc89",
   "metadata": {},
   "outputs": [],
   "source": []
  }
 ],
 "metadata": {
  "kernelspec": {
   "display_name": "Python 3 (ipykernel)",
   "language": "python",
   "name": "python3"
  },
  "language_info": {
   "codemirror_mode": {
    "name": "ipython",
    "version": 3
   },
   "file_extension": ".py",
   "mimetype": "text/x-python",
   "name": "python",
   "nbconvert_exporter": "python",
   "pygments_lexer": "ipython3",
   "version": "3.12.4"
  }
 },
 "nbformat": 4,
 "nbformat_minor": 5
}
