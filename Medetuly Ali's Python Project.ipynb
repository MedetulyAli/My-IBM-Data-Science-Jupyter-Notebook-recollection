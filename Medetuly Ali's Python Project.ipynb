{
 "cells": [
  {
   "cell_type": "code",
   "execution_count": null,
   "id": "645f2564-9e8a-46e1-a325-469f050478d7",
   "metadata": {},
   "outputs": [],
   "source": [
    "!pip install pandas\n",
    "!pip install requests\n",
    "!pip install bs4\n",
    "!pip install html5lib\n",
    "!pip install lxml\n",
    "!pip install plotly\n",
    "\n",
    "import pandas as pd\n",
    "import requests\n",
    "from bs4 import BeautifulSoup\n",
    "\n",
    "import warnings"
   ]
  },
  {
   "cell_type": "markdown",
   "id": "8e7aec20-8148-441c-8794-7895c78bb0c2",
   "metadata": {},
   "source": [
    "#Question 1 - Extracting Tesla Stock Data Using yfinance"
   ]
  },
  {
   "cell_type": "code",
   "execution_count": null,
   "id": "03be4a4a-6e34-415e-b648-829d25b11b4b",
   "metadata": {},
   "outputs": [],
   "source": [
    "import yfinance as yf\n",
    "\n",
    "start_date = '2020-01-01'\n",
    "end_date = '2021-12-31'\n",
    "\n",
    "tesla_data = yf.download('TSLA', start=start_date, end=end_date)\n",
    "\n",
    "print(tesla_data.head())\n"
   ]
  },
  {
   "cell_type": "markdown",
   "id": "c95ec674-03ca-445a-89bb-db2612fddf53",
   "metadata": {},
   "source": [
    "#Question 2 - Extracting Tesla Revenue Data Using Webscraping"
   ]
  },
  {
   "cell_type": "code",
   "execution_count": null,
   "id": "7bfa4fb5-6646-4c49-9060-6176aeb9a6ac",
   "metadata": {},
   "outputs": [],
   "source": [
    "import requests\n",
    "from bs4 import BeautifulSoup\n",
    "import pandas as pd\n",
    "\n",
    "url = 'https://example.com/tesla-revenue'\n",
    "\n",
    "response = requests.get(url)\n",
    "\n",
    "soup = BeautifulSoup(response.content, 'html.parser')\n",
    "\n",
    "revenue_data = soup.find('div', class_='revenue-data')\n",
    "\n",
    "df_revenue = pd.read_html(str(revenue_data))[0]\n",
    "\n",
    "df_revenue.to_csv('tesla_revenue.csv', index=False)\n",
    "\n",
    "print(\"Tesla revenue data successfully extracted and saved to tesla_revenue.csv\")\n"
   ]
  },
  {
   "cell_type": "markdown",
   "id": "f87be0ad-90db-4946-8753-f4d489cabfd0",
   "metadata": {},
   "source": [
    "#Question 3 - Extracting GameStop Stock Data Using yfinance "
   ]
  },
  {
   "cell_type": "code",
   "execution_count": null,
   "id": "c284521e-2564-4f81-8435-cbe5f6d88d3a",
   "metadata": {},
   "outputs": [],
   "source": [
    "import yfinance as yf\n",
    "\n",
    "start_date = '2020-01-01'\n",
    "end_date = '2021-12-31'\n",
    "\n",
    "gme_data = yf.download('GME', start=start_date, end=end_date)\n",
    "\n",
    "print(gme_data.head())\n"
   ]
  },
  {
   "cell_type": "markdown",
   "id": "d3d52234-ffd5-4dea-b2fc-16cd08d2f927",
   "metadata": {},
   "source": [
    "#Question 4 - Extracting GameStop Revenue Data Using Webscraping "
   ]
  },
  {
   "cell_type": "code",
   "execution_count": null,
   "id": "603fc282-32fe-4a21-9f03-7dd68a3875a9",
   "metadata": {},
   "outputs": [],
   "source": [
    "import requests\n",
    "from bs4 import BeautifulSoup\n",
    "import pandas as pd\n",
    "\n",
    "gme_url = 'https://example.com/gamestop-revenue'\n",
    "\n",
    "gme_response = requests.get(gme_url)\n",
    "\n",
    "gme_soup = BeautifulSoup(gme_response.content, 'html.parser')\n",
    "\n",
    "gme_revenue_data = gme_soup.find('div', class_='revenue-data')\n",
    "\n",
    "df_gme_revenue = pd.read_html(str(gme_revenue_data))[0]\n",
    "\n",
    "df_gme_revenue.to_csv('gamestop_revenue.csv', index=False)\n",
    "\n",
    "print(\"GameStop revenue data successfully extracted and saved to gamestop_revenue.csv\")\n"
   ]
  },
  {
   "cell_type": "markdown",
   "id": "4574a9be-8a94-486f-91a1-ec9a4ef00e1d",
   "metadata": {},
   "source": [
    "#Question 5 – Tesla Stock and Revenue Dashboard "
   ]
  },
  {
   "cell_type": "code",
   "execution_count": null,
   "id": "9a80a3bb-9576-4e4a-ab9a-f960ca9d799d",
   "metadata": {},
   "outputs": [],
   "source": [
    "import matplotlib.pyplot as plt\n",
    "\n",
    "plt.figure(figsize=(10, 6))\n",
    "plt.plot(tesla_data.index, tesla_data['Close'], label='Tesla Stock Price', color='b')\n",
    "\n",
    "plt.bar(df_revenue['Date'], df_revenue['Revenue'], alpha=0.5, label='Tesla Revenue', color='g')\n",
    "\n",
    "plt.xlabel('Date')\n",
    "plt.ylabel('Price / Revenue')\n",
    "plt.title('Tesla Stock Price vs. Revenue')\n",
    "plt.legend()\n",
    "plt.show()\n"
   ]
  },
  {
   "cell_type": "markdown",
   "id": "e28611cf-a51c-42dc-a633-d7b038deda80",
   "metadata": {},
   "source": [
    "#Question 6 - GameStop Stock and Revenue Dashboard"
   ]
  },
  {
   "cell_type": "code",
   "execution_count": null,
   "id": "ace2620a-a85c-4a3d-bacc-50e3456cc45a",
   "metadata": {},
   "outputs": [],
   "source": [
    "import pandas as pd\n",
    "import matplotlib.pyplot as plt\n",
    "\n",
    "plt.figure(figsize=(10, 6))\n",
    "\n",
    "plt.plot(gme_stock_data.index, gme_stock_data['Close'], label='GameStop Stock Price', color='b')\n",
    "\n",
    "plt.plot(gme_revenue_data.index, gme_revenue_data['Revenue'], label='GameStop Revenue', color='g')\n",
    "\n",
    "plt.xlabel('Date')\n",
    "plt.ylabel('Price / Revenue')\n",
    "plt.title('GameStop Stock Price vs. Revenue')\n",
    "plt.legend()\n",
    "plt.grid(True)\n",
    "\n",
    "plt.savefig('gamestop_dashboard.png')\n",
    "plt.show()\n",
    "\n",
    "print(\"GameStop dashboard created successfully!\")\n"
   ]
  }
 ],
 "metadata": {
  "kernelspec": {
   "display_name": "Python 3 (ipykernel)",
   "language": "python",
   "name": "python3"
  },
  "language_info": {
   "codemirror_mode": {
    "name": "ipython",
    "version": 3
   },
   "file_extension": ".py",
   "mimetype": "text/x-python",
   "name": "python",
   "nbconvert_exporter": "python",
   "pygments_lexer": "ipython3",
   "version": "3.12.4"
  }
 },
 "nbformat": 4,
 "nbformat_minor": 5
}
