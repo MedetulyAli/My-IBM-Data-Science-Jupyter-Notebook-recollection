{
 "cells": [
  {
   "cell_type": "code",
   "execution_count": 1,
   "id": "dca09738-fedc-40ca-ad9f-b9211886a689",
   "metadata": {},
   "outputs": [
    {
     "ename": "SyntaxError",
     "evalue": "invalid syntax (3236430915.py, line 1)",
     "output_type": "error",
     "traceback": [
      "\u001b[1;36m  Cell \u001b[1;32mIn[1], line 1\u001b[1;36m\u001b[0m\n\u001b[1;33m    Unnamed: 0        int64\u001b[0m\n\u001b[1;37m                      ^\u001b[0m\n\u001b[1;31mSyntaxError\u001b[0m\u001b[1;31m:\u001b[0m invalid syntax\n"
     ]
    }
   ],
   "source": [
    "Unnamed: 0        int64\n",
    "id                int64\n",
    "date             object\n",
    "price           float64\n",
    "bedrooms        float64\n",
    "bathrooms       float64\n",
    "sqft_living       int64\n",
    "sqft_lot          int64\n",
    "floors          float64\n",
    "waterfront        int64\n",
    "view              int64\n",
    "condition         int64\n",
    "grade             int64\n",
    "sqft_above        int64\n",
    "sqft_basement     int64\n",
    "yr_built          int64\n",
    "yr_renovated      int64\n",
    "zipcode           int64 \n",
    "lat               int64\n",
    "long            float64\n",
    "sqft_living15   float64\n",
    "sqft_lot15        int64\n",
    "dtype: object     int64"
   ]
  },
  {
   "cell_type": "code",
   "execution_count": 4,
   "id": "1d805412-a9a5-48d4-9f96-3968f4a3d99b",
   "metadata": {},
   "outputs": [
    {
     "ename": "SyntaxError",
     "evalue": "invalid syntax (1348542050.py, line 1)",
     "output_type": "error",
     "traceback": [
      "\u001b[1;36m  Cell \u001b[1;32mIn[4], line 1\u001b[1;36m\u001b[0m\n\u001b[1;33m    |----|--------|\u001b[0m\n\u001b[1;37m    ^\u001b[0m\n\u001b[1;31mSyntaxError\u001b[0m\u001b[1;31m:\u001b[0m invalid syntax\n"
     ]
    }
   ],
   "source": [
    "|----|--------|\n",
    "|    | floors |\n",
    "|----|--------|\n",
    "|1.0 | 10680  |\n",
    "|2.0 |  8241  |\n",
    "|1.5 |  1910  |\n",
    "|3.0 |   613  |\n",
    "|2.5 |   161  |\n",
    "|3.5 |     8  |"
   ]
  },
  {
   "cell_type": "code",
   "execution_count": null,
   "id": "56ccaf37-3bea-4d69-9baa-b4e51f739248",
   "metadata": {},
   "outputs": [],
   "source": [
    "R^2.score = 0.49285"
   ]
  },
  {
   "cell_type": "code",
   "execution_count": null,
   "id": "23e625c7-7a6c-4d16-bb21-5c9ea11abd20",
   "metadata": {},
   "outputs": [],
   "source": [
    "R^2.score = 0.657695"
   ]
  },
  {
   "cell_type": "code",
   "execution_count": null,
   "id": "bb3b5a32-0405-4985-ad5a-c8070132df50",
   "metadata": {},
   "outputs": [],
   "source": [
    "R^2.score = 0.75133"
   ]
  },
  {
   "cell_type": "code",
   "execution_count": null,
   "id": "4c94e717-03ea-4bd9-8b23-afd262ab57a4",
   "metadata": {},
   "outputs": [],
   "source": [
    "R^2.score = 0.647"
   ]
  },
  {
   "cell_type": "code",
   "execution_count": null,
   "id": "3824718c-a4b3-4d11-9bfb-40209e2dadef",
   "metadata": {},
   "outputs": [],
   "source": [
    "R^2.score = 0.7"
   ]
  }
 ],
 "metadata": {
  "kernelspec": {
   "display_name": "Python 3 (ipykernel)",
   "language": "python",
   "name": "python3"
  },
  "language_info": {
   "codemirror_mode": {
    "name": "ipython",
    "version": 3
   },
   "file_extension": ".py",
   "mimetype": "text/x-python",
   "name": "python",
   "nbconvert_exporter": "python",
   "pygments_lexer": "ipython3",
   "version": "3.12.4"
  }
 },
 "nbformat": 4,
 "nbformat_minor": 5
}
